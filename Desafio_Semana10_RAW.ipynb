{
 "cells": [
  {
   "cell_type": "code",
   "execution_count": null,
   "metadata": {},
   "outputs": [],
   "source": [
    "import tweepy\n",
    "import time\n",
    "import datetime\n",
    "from datetime import *\n",
    "import boto3\n",
    "import json\n",
    "\n",
    "api_key = ''\n",
    "api_secret = ''\n",
    "bearer_token = ''\n",
    "access_token = ''\n",
    "access_token_secret = ''"
   ]
  },
  {
   "cell_type": "code",
   "execution_count": null,
   "metadata": {},
   "outputs": [],
   "source": [
    "client = tweepy.Client(bearer_token, api_key, api_secret, access_token, access_token_secret)\n",
    "\n",
    "auth = tweepy.OAuth1UserHandler(api_key, api_secret, access_token, access_token_secret)\n",
    "api = tweepy.API(auth)"
   ]
  },
  {
   "cell_type": "code",
   "execution_count": null,
   "metadata": {},
   "outputs": [],
   "source": [
    "def sendToS3(lista, dateList):\n",
    "    # your AWS credentials here\n",
    "    ACCESS_ID = ''\n",
    "    ACCESS_KEY = ''\n",
    "\n",
    "    s3 = boto3.client(\n",
    "        's3',\n",
    "        region_name='region',\n",
    "        aws_access_key_id=ACCESS_ID,\n",
    "        aws_secret_access_key= ACCESS_KEY\n",
    "    )\n",
    "\n",
    "    arq_name = min(dateList)\n",
    "\n",
    "    boto3.client('s3').put_object(Key= 'nov-22/'+str(arq_name)+'.json', Body=json.dumps(lista), Bucket = 'bucket name')\n"
   ]
  },
  {
   "attachments": {},
   "cell_type": "markdown",
   "metadata": {},
   "source": [
    "### "
   ]
  },
  {
   "cell_type": "code",
   "execution_count": null,
   "metadata": {},
   "outputs": [],
   "source": [
    "\n",
    "class MyStream(tweepy.StreamingClient):\n",
    "    \n",
    "    tweets = []\n",
    "    datas = []\n",
    "    \n",
    "    def on_connect(self):\n",
    "        print(\"conected\")\n",
    "\n",
    "\n",
    "    def on_tweet(self, tweet):\n",
    "        if tweet.referenced_tweets == None:\n",
    "\n",
    "            self.datas.append(datetime.strftime(datetime.strptime(str(tweet.created_at), \"%Y-%m-%d %H:%M:%S%z\"), \"%Y-%m-%d %H %M %S\"))\n",
    "\n",
    "            self.tweets.append({\"id\" : tweet.id,\n",
    "                                \"tweet_text\" : tweet.text,\n",
    "                                \"tweet_date\" : datetime.strftime(datetime.strptime(str(tweet.created_at), \"%Y-%m-%d %H:%M:%S%z\"), \"%Y-%m-%d %H:%M:%S\")})\n",
    "\n",
    "        if len(self.tweets) == 100:\n",
    "            dados = self.tweets\n",
    "            dateList = self.datas\n",
    "            print(\"Create Json\")\n",
    "            sendToS3(dados,dateList)\n",
    "            self.datas = []\n",
    "            self.tweets = []"
   ]
  },
  {
   "cell_type": "code",
   "execution_count": null,
   "metadata": {},
   "outputs": [],
   "source": [
    "stream = MyStream(bearer_token=bearer_token)"
   ]
  },
  {
   "cell_type": "code",
   "execution_count": null,
   "metadata": {},
   "outputs": [],
   "source": [
    "search_terms = [\"Bolsonaro\", \"presidente do brasil\"]\n",
    "\n",
    "for term in search_terms:\n",
    "    stream.add_rules(tweepy.StreamRule(term))\n"
   ]
  },
  {
   "cell_type": "code",
   "execution_count": null,
   "metadata": {},
   "outputs": [],
   "source": [
    "stream.filter(tweet_fields=['referenced_tweets','created_at'])"
   ]
  }
 ],
 "metadata": {
  "kernelspec": {
   "display_name": "Python 3.8.10 ('Desafio_XPTO-17syfKKj')",
   "language": "python",
   "name": "python3"
  },
  "language_info": {
   "codemirror_mode": {
    "name": "ipython",
    "version": 3
   },
   "file_extension": ".py",
   "mimetype": "text/x-python",
   "name": "python",
   "nbconvert_exporter": "python",
   "pygments_lexer": "ipython3",
   "version": "3.8.10 (default, Jun 22 2022, 20:18:18) \n[GCC 9.4.0]"
  },
  "orig_nbformat": 4,
  "vscode": {
   "interpreter": {
    "hash": "0c023006b6da2071b554e97a5e7b7e3f1771a03637a70c7ada10d3a58ac33642"
   }
  }
 },
 "nbformat": 4,
 "nbformat_minor": 2
}
