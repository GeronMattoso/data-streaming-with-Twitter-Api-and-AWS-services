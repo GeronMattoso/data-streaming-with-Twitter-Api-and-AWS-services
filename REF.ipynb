{
 "cells": [
  {
   "cell_type": "code",
   "execution_count": null,
   "metadata": {},
   "outputs": [],
   "source": [
    "from pyspark import SparkContext, SQLContext\n",
    "from pyspark.sql import SparkSession\n",
    "from pyspark.sql.functions import *\n",
    "from pyspark.sql.types import *\n",
    "import os\n",
    "import json\n",
    "\n",
    "spark = SparkSession.builder.appName(\"Desafio_XPTO\").getOrCreate()"
   ]
  },
  {
   "cell_type": "code",
   "execution_count": null,
   "metadata": {},
   "outputs": [],
   "source": [
    "df = spark.read.json(c's3://raw'+'*.json')"
   ]
  },
  {
   "cell_type": "code",
   "execution_count": null,
   "metadata": {},
   "outputs": [],
   "source": [
    "df = df.withColumn(\"tweet_text\", decode(encode(\"tweet_text\", 'ISO-8859-1'), 'UTF-8'))"
   ]
  },
  {
   "cell_type": "code",
   "execution_count": null,
   "metadata": {},
   "outputs": [],
   "source": [
    "emocaopos = [\":D\",\":)\",\":]\",\":-)\",\":P\",\":p\",\":v\",\": )\"]\n",
    "emocaoneg = [\":(\",\":[\",\":{\"]\n",
    "\n",
    "todas_emocoes = [':D', ':)', ':]', ':-)', ':P', ':p', ':v', ': )',':(', ':[', ':{']"
   ]
  },
  {
   "cell_type": "code",
   "execution_count": null,
   "metadata": {},
   "outputs": [],
   "source": [
    "df_emocao = df.withColumn(\":D\", locate(\":D\", col(\"tweet_text\")))\\\n",
    "                .withColumn(\":)\", locate(\":)\", col(\"tweet_text\")))\\\n",
    "                    .withColumn(\":]\", locate(\":]\", col(\"tweet_text\")))\\\n",
    "                        .withColumn(\":-)\", locate(\":-)\", col(\"tweet_text\")))\\\n",
    "                            .withColumn(\":P\", locate(\":P\", col(\"tweet_text\")))\\\n",
    "                                .withColumn(\":p\", locate(\":p\", col(\"tweet_text\")))\\\n",
    "                                    .withColumn(\":v\", locate(\":v\", col(\"tweet_text\")))\\\n",
    "                                        .withColumn(\": )\", locate(\": )\", col(\"tweet_text\")))\\\n",
    "                                            .withColumn(\":(\", locate(\":(\", col(\"tweet_text\")))\\\n",
    "                                                .withColumn(\":[\", locate(\":[\", col(\"tweet_text\")))\\\n",
    "                                                    .withColumn(\":{\", locate(\":{\", col(\"tweet_text\")))\n",
    "\n",
    "df_emocao.show()"
   ]
  },
  {
   "cell_type": "code",
   "execution_count": null,
   "metadata": {},
   "outputs": [],
   "source": [
    "df_simbolos = df_emocao.withColumn('simbolo', least(*[(when(col(c).isNull() | (col(c) == 0), \"None\").otherwise(c))for c in df_emocao.columns[3:]]))\n",
    "\n",
    "df_simbolos = df_simbolos.drop(*todas_emocoes)\n",
    "\n",
    "df_completa = df_simbolos.withColumn('Sentimento', when(df_simbolos.simbolo.isin(emocaopos), 'positivo')\\\n",
    "                                                .when(df_simbolos.simbolo.isin(emocaoneg), 'negativo')\\\n",
    "                                                    .otherwise(\"neutra\"))\n",
    "\n",
    "df_completa.show(truncate=True)\n"
   ]
  },
  {
   "cell_type": "code",
   "execution_count": null,
   "metadata": {},
   "outputs": [],
   "source": [
    "df_out = df_completa.withColumn('Ano', date_format(df_completa.tweet_date, \"yyyy\"))\\\n",
    "                        .withColumn('Mes', date_format(df_completa.tweet_date, \"MM\"))\\\n",
    "                            .withColumn('Dia', date_format(df_completa.tweet_date, \"dd\"))\n",
    "                            \n",
    "df_out.show()\n",
    "\n",
    "df_out.write.partitionBy(\"Ano\",\"Mes\",\"Dia\").parquet(\"s3://ref\", mode = 'overwrite')\n",
    "print(\"Done!!\")"
   ]
  }
 ],
 "metadata": {
  "kernelspec": {
   "display_name": "Python 3.8.10 ('Desafio_XPTO-17syfKKj')",
   "language": "python",
   "name": "python3"
  },
  "language_info": {
   "codemirror_mode": {
    "name": "ipython",
    "version": 3
   },
   "file_extension": ".py",
   "mimetype": "text/x-python",
   "name": "python",
   "nbconvert_exporter": "python",
   "pygments_lexer": "ipython3",
   "version": "3.8.10 (default, Jun 22 2022, 20:18:18) \n[GCC 9.4.0]"
  },
  "orig_nbformat": 4,
  "vscode": {
   "interpreter": {
    "hash": "0c023006b6da2071b554e97a5e7b7e3f1771a03637a70c7ada10d3a58ac33642"
   }
  }
 },
 "nbformat": 4,
 "nbformat_minor": 2
}
